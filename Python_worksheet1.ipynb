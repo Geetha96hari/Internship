{
 "cells": [
  {
   "cell_type": "code",
   "execution_count": 1,
   "id": "69c7d38d-452c-484a-b606-e5dba81985c3",
   "metadata": {},
   "outputs": [
    {
     "name": "stdin",
     "output_type": "stream",
     "text": [
      "Enter a number:  5\n"
     ]
    },
    {
     "name": "stdout",
     "output_type": "stream",
     "text": [
      "The factorial of 5 is 120\n"
     ]
    }
   ],
   "source": [
    "# Program to check the factorial of a number\n",
    "\n",
    "num = int(input(\"Enter a number: \"))\n",
    "factorial = 1\n",
    "if num < 0:\n",
    "   print(\"Sorry, factorial does not exist for negative numbers\")\n",
    "elif num == 0:\n",
    "   print(\"The factorial of 0 is 1\")\n",
    "else:\n",
    "   for i in range(1,num + 1):\n",
    "       factorial = factorial*i\n",
    "   print(\"The factorial of\",num,\"is\",factorial)\n"
   ]
  },
  {
   "cell_type": "code",
   "execution_count": 10,
   "id": "a0ba36d7-7d12-452f-9bb8-255e5f2589a1",
   "metadata": {},
   "outputs": [
    {
     "name": "stdout",
     "output_type": "stream",
     "text": [
      "Enter a number: 77\n",
      "77 is a composite number\n",
      "7 times 11 is 77\n"
     ]
    }
   ],
   "source": [
    "# Program to check if a number is prime or composite\n",
    "\n",
    "num = int(input(\"Enter a number: \"))\n",
    "if num > 1:\n",
    "   \n",
    "   for i in range(2,num):\n",
    "       if (num % i) == 0:\n",
    "           print(num,\"is a composite number\")\n",
    "           print(i,\"times\",num//i,\"is\",num)\n",
    "           break\n",
    "   else:\n",
    "       print(num,\"is a prime number\")\n",
    "       \n",
    "\n",
    "else:\n",
    "   print(num,\"is a composite number\")"
   ]
  },
  {
   "cell_type": "code",
   "execution_count": 13,
   "id": "56fc5e19",
   "metadata": {},
   "outputs": [
    {
     "name": "stdout",
     "output_type": "stream",
     "text": [
      "The string is a palindrome.\n"
     ]
    }
   ],
   "source": [
    "# Program to check if a string is palindrome or not\n",
    "\n",
    "my_str = 'wow'\n",
    "\n",
    "my_str = my_str.casefold()\n",
    "\n",
    "rev_str = reversed(my_str)\n",
    "\n",
    "if list(my_str) == list(rev_str):\n",
    "   print(\"The string is a palindrome.\")\n",
    "else:\n",
    "   print(\"The string is not a palindrome.\")\n"
   ]
  },
  {
   "cell_type": "code",
   "execution_count": 20,
   "id": "81973695",
   "metadata": {},
   "outputs": [
    {
     "name": "stdout",
     "output_type": "stream",
     "text": [
      "Enter base: 3\n",
      "Enter height: 4\n",
      "Hypotenuse = 5.0\n"
     ]
    }
   ],
   "source": [
    "# Program to find the third side of a triangle from the given two sides\n",
    "\n",
    "import math\n",
    "a = float(input(\"Enter base: \"))\n",
    "b = float(input(\"Enter height: \"))\n",
    "\n",
    "\n",
    "c = math.sqrt(a ** 2 + b ** 2)\n",
    "\n",
    "print(\"Hypotenuse =\", c)"
   ]
  },
  {
   "cell_type": "code",
   "execution_count": 29,
   "id": "fc6ca947",
   "metadata": {},
   "outputs": [
    {
     "name": "stdout",
     "output_type": "stream",
     "text": [
      "The count of all characters in \n",
      "Count of all characters in Geethanjali test_str is : \n",
      "{'t': 1, 'a': 2, 'h': 1, 'G': 1, 'i': 1, 'e': 2, 'l': 1, 'j': 1, 'n': 1}\n"
     ]
    }
   ],
   "source": [
    "# program to print the frequency of each of the characters present in a given string\n",
    "\n",
    "test_str = \"Geethanjali\"\n",
    "res = {i : test_str.count(i) for i in set(test_str)}  \n",
    "print (\"The count of all characters in \") \n",
    "print (\"Count of all characters in %s test_str is : \\n\" % (test_str)\n",
    "                                             +  str(res))"
   ]
  },
  {
   "cell_type": "code",
   "execution_count": null,
   "id": "1b5fca66",
   "metadata": {},
   "outputs": [],
   "source": []
  }
 ],
 "metadata": {
  "kernelspec": {
   "display_name": "Python 3 (ipykernel)",
   "language": "python",
   "name": "python3"
  },
  "language_info": {
   "codemirror_mode": {
    "name": "ipython",
    "version": 3
   },
   "file_extension": ".py",
   "mimetype": "text/x-python",
   "name": "python",
   "nbconvert_exporter": "python",
   "pygments_lexer": "ipython3",
   "version": "3.9.7"
  }
 },
 "nbformat": 4,
 "nbformat_minor": 5
}
